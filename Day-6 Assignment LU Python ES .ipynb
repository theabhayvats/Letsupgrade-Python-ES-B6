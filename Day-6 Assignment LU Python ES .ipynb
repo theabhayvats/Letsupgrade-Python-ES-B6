{
 "cells": [
  {
   "cell_type": "code",
   "execution_count": 1,
   "metadata": {},
   "outputs": [
    {
     "name": "stdout",
     "output_type": "stream",
     "text": [
      "Convert to a dictionary in one line code using list comprehension(without using zip method)\n",
      "{1: 'a', 2: 'b', 3: 'c', 4: 'd', 5: 'e'}\n"
     ]
    }
   ],
   "source": [
    "print(\"Convert to a dictionary in one line code using list comprehension(without using zip method)\")\n",
    "\n",
    "list1=[1,2,3,4,5,6,7,8]\n",
    "list2=[\"a\",\"b\",\"c\",\"d\",\"e\"]\n",
    "\n",
    "mydict={list1[i]:list2[i] for i in range(len(list2))}\n",
    "print(mydict)\n",
    "\n",
    "\n",
    "\n",
    "#OUTPUT\n",
    "#Convert to a dictionary in one line code using list comprehension(without using zip method)\n",
    "#{1: 'a', 2: 'b', 3: 'c', 4: 'd', 5: 'e'}"
   ]
  },
  {
   "cell_type": "code",
   "execution_count": null,
   "metadata": {},
   "outputs": [],
   "source": []
  }
 ],
 "metadata": {
  "kernelspec": {
   "display_name": "Python 3",
   "language": "python",
   "name": "python3"
  },
  "language_info": {
   "codemirror_mode": {
    "name": "ipython",
    "version": 3
   },
   "file_extension": ".py",
   "mimetype": "text/x-python",
   "name": "python",
   "nbconvert_exporter": "python",
   "pygments_lexer": "ipython3",
   "version": "3.7.6"
  }
 },
 "nbformat": 4,
 "nbformat_minor": 4
}
