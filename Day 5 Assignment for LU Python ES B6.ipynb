{
 "cells": [
  {
   "cell_type": "code",
   "execution_count": 3,
   "metadata": {},
   "outputs": [
    {
     "name": "stdout",
     "output_type": "stream",
     "text": [
      "Sorting Assignment-1\n",
      "[1, 2, 10, 4, 1, 56, 2, 1, 3, 56, 4, 0, 0, 0, 0, 0]\n"
     ]
    }
   ],
   "source": [
    "#Assignment-1(Day5)\n",
    "#sorting in Ascending order & All zeros on right side\n",
    "\n",
    "print(\"Sorting Assignment-1\")\n",
    "\n",
    "data=[0,1,2,10,4,1,0,56,2,0,1,3,0,56,0,4]\n",
    "\n",
    "data.sort(key=lambda v:v==0)\n",
    "\n",
    "print(data)"
   ]
  },
  {
   "cell_type": "code",
   "execution_count": 4,
   "metadata": {},
   "outputs": [
    {
     "name": "stdout",
     "output_type": "stream",
     "text": [
      "python program to Merge List \n",
      "\n",
      "Merged List: \n",
      " [5, 10, 15, 20, 25, 35, 40, 45, 60, 60, 70, 80]\n"
     ]
    }
   ],
   "source": [
    "#Assignment-2(Day5)\n",
    "#python program to Merge List \n",
    "\n",
    "print(\"python program to Merge List \\n\")\n",
    "\n",
    "list1=[10,20,40,60,70,80]\n",
    "list2=[5,15,25,35,45,60]\n",
    "\n",
    "merged_List=list1+list2\n",
    "merged_List.sort()\n",
    "\n",
    "print(f\"Merged List: \\n {merged_List}\")"
   ]
  },
  {
   "cell_type": "code",
   "execution_count": null,
   "metadata": {},
   "outputs": [],
   "source": []
  }
 ],
 "metadata": {
  "kernelspec": {
   "display_name": "Python 3",
   "language": "python",
   "name": "python3"
  },
  "language_info": {
   "codemirror_mode": {
    "name": "ipython",
    "version": 3
   },
   "file_extension": ".py",
   "mimetype": "text/x-python",
   "name": "python",
   "nbconvert_exporter": "python",
   "pygments_lexer": "ipython3",
   "version": "3.7.6"
  }
 },
 "nbformat": 4,
 "nbformat_minor": 4
}
