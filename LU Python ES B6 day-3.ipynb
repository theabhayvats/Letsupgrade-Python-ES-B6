{
 "cells": [
  {
   "cell_type": "code",
   "execution_count": 10,
   "metadata": {},
   "outputs": [
    {
     "name": "stdout",
     "output_type": "stream",
     "text": [
      "Enter a number: 11\n",
      "The sum of first n natural numbers is 66\n"
     ]
    }
   ],
   "source": [
    "#Sum of n numbers with the help of while loop\n",
    "n=int(input(\"Enter a number: \"))\n",
    "sum1 = 0\n",
    "while(n > 0):\n",
    "    sum1=sum1+n\n",
    "    n=n-1\n",
    "print(\"The sum of first n natural numbers is\",sum1)"
   ]
  },
  {
   "cell_type": "code",
   "execution_count": 9,
   "metadata": {},
   "outputs": [
    {
     "name": "stdout",
     "output_type": "stream",
     "text": [
      "11 is a prime number\n"
     ]
    }
   ],
   "source": [
    "#Python program to check if  \n",
    "# given number is prime or not \n",
    "  \n",
    "num = 11\n",
    "  \n",
    "# If given number is greater than 1 \n",
    "if num > 1: \n",
    "      \n",
    "   # Iterate from 2 to n / 2  \n",
    "   for i in range(2, num): \n",
    "         \n",
    "       # If num is divisible by any number between  \n",
    "       # 2 and n / 2, it is not prime  \n",
    "       if (num % i) == 0: \n",
    "           print(num, \"is not a prime number\") \n",
    "           break\n",
    "   else: \n",
    "       print(num, \"is a prime number\") \n",
    "  \n",
    "else: \n",
    "   print(num, \"is not a prime number\") "
   ]
  },
  {
   "cell_type": "code",
   "execution_count": null,
   "metadata": {},
   "outputs": [],
   "source": []
  }
 ],
 "metadata": {
  "kernelspec": {
   "display_name": "Python 3",
   "language": "python",
   "name": "python3"
  },
  "language_info": {
   "codemirror_mode": {
    "name": "ipython",
    "version": 3
   },
   "file_extension": ".py",
   "mimetype": "text/x-python",
   "name": "python",
   "nbconvert_exporter": "python",
   "pygments_lexer": "ipython3",
   "version": "3.7.6"
  }
 },
 "nbformat": 4,
 "nbformat_minor": 4
}
