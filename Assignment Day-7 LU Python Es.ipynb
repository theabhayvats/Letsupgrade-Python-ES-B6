{
 "cells": [
  {
   "cell_type": "code",
   "execution_count": 2,
   "metadata": {},
   "outputs": [
    {
     "name": "stdout",
     "output_type": "stream",
     "text": [
      "original dictionary is:\n",
      "{21: 'FTP', 22: 'SSH', 23: 'telnet', 80: 'http'}\n",
      "\n",
      "dictionary after swapping is :\n",
      "keys:values\n",
      "FTP : 21\n",
      "SSH : 22\n",
      "telnet : 23\n",
      "http : 80\n"
     ]
    }
   ],
   "source": [
    "#Question-1\n",
    "\n",
    "#Python3  code to demonstrate\n",
    "\n",
    "#swap of key and value no\n",
    "\n",
    "#initializing dictionary\n",
    "\n",
    "old_dict={21:\"FTP\",22:\"SSH\",23:\"telnet\",80:\"http\"}\n",
    "          \n",
    "new_dict=dict([(value,key)for key,value in old_dict.items()])\n",
    "          \n",
    "#Printing original dictionary\n",
    "print(\"original dictionary is:\")\n",
    "          \n",
    "print(old_dict)\n",
    "          \n",
    "print()\n",
    "#Printing new dictionary after swapping keys and values\n",
    "print(\"dictionary after swapping is :\")  \n",
    "          \n",
    "print(\"keys:values\")\n",
    "for i in new_dict:\n",
    "          print(i,\":\",new_dict[i])\n",
    "          \n",
    "          \n",
    "   #OUTPUT   \n",
    "original dictionary is:\n",
    "{21: 'FTP', 22: 'SSH', 23: 'telnet', 80: 'http'}\n",
    "\n",
    "dictionary after swapping is :\n",
    "keys:values\n",
    "FTP : 21\n",
    "SSH : 22\n",
    "telnet : 23\n",
    "http : 80"
   ]
  },
  {
   "cell_type": "code",
   "execution_count": 4,
   "metadata": {},
   "outputs": [
    {
     "name": "stdout",
     "output_type": "stream",
     "text": [
      "The original list:[(1, 3), (5, 6, 7), (2, 6)]\n",
      "The summation of all tuple elements are:30\n"
     ]
    }
   ],
   "source": [
    "#Question-2\n",
    "\n",
    "#summation of tuples in list\n",
    "#initialize list of tuple\n",
    "\n",
    "test_list=[(1,3),(5,6,7),(2,6)]\n",
    "\n",
    "print(\"The original list:\"+str(test_list))\n",
    "\n",
    "res=sum(map(sum,test_list))\n",
    "\n",
    "print(\"The summation of all tuple elements are:\"+str(res))\n",
    "\n",
    "\n",
    "#OUTPUT\n",
    "The original list:[(1, 3), (5, 6, 7), (2, 6)]\n",
    "The summation of all tuple elements are:30\n"
   ]
  },
  {
   "cell_type": "code",
   "execution_count": 5,
   "metadata": {},
   "outputs": [
    {
     "name": "stdout",
     "output_type": "stream",
     "text": [
      "The original list1:[[1, 2], [3, 4], [5, 6]]\n",
      "The original list1:[[3, 4], [5, 7], [1, 2]]\n",
      "The intersection of two list is :[[1, 2]]\n",
      "The intersection of two list is :[[1, 2], [3, 4]]\n"
     ]
    }
   ],
   "source": [
    "#Question-3\n",
    "\n",
    "#Python 3 code to demonstrate\n",
    "\n",
    "#find intersection of nested list\n",
    "\n",
    "test_list1=[[1,2],[3,4],[5,6]]\n",
    "test_list2=[[3,4],[5,7],[1,2]]\n",
    "\n",
    "print(\"The original list1:\"+str(test_list1))\n",
    "\n",
    "print(\"The original list1:\"+str(test_list2))\n",
    "\n",
    "res_list=[]\n",
    "for i in test_list1:\n",
    "    if i in test_list2:\n",
    "        res_list.append(i)\n",
    "        print(\"The intersection of two list is :\"+str(res_list))\n",
    "\n",
    "#OUTPUT\n",
    "The original list1:[[1, 2], [3, 4], [5, 6]]\n",
    "The original list1:[[3, 4], [5, 7], [1, 2]]\n",
    "The intersection of two list is :[[1, 2]]\n",
    "The intersection of two list is :[[1, 2], [3, 4]]"
   ]
  },
  {
   "cell_type": "code",
   "execution_count": null,
   "metadata": {},
   "outputs": [],
   "source": []
  }
 ],
 "metadata": {
  "kernelspec": {
   "display_name": "Python 3",
   "language": "python",
   "name": "python3"
  },
  "language_info": {
   "codemirror_mode": {
    "name": "ipython",
    "version": 3
   },
   "file_extension": ".py",
   "mimetype": "text/x-python",
   "name": "python",
   "nbconvert_exporter": "python",
   "pygments_lexer": "ipython3",
   "version": "3.7.6"
  }
 },
 "nbformat": 4,
 "nbformat_minor": 4
}
