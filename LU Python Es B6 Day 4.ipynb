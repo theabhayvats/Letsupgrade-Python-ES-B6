{
 "cells": [
  {
   "cell_type": "code",
   "execution_count": 7,
   "metadata": {},
   "outputs": [
    {
     "name": "stdout",
     "output_type": "stream",
     "text": [
      " Program to extract Substrings !! \n",
      "\n",
      "Enter a sentence of your choice: \n",
      "\"what we think we become, we are python programmer\"\n",
      "\n",
      "Enter a Search Letter: e\n",
      "\n",
      "Substring count: 7 \n",
      "\n",
      "Length = 51 \n",
      "\n",
      "Index of the Sub_String : 7 \n",
      "\n"
     ]
    }
   ],
   "source": [
    "print(\" Program to extract Substrings !! \\n\")\n",
    "\n",
    "sentence = input(\"Enter a sentence of your choice: \\n\").lower()\n",
    "\n",
    "search_letter = input(\"\\nEnter a Search Letter: \").lower()\n",
    "\n",
    "length = len(sentence)\n",
    "index = 0\n",
    "\n",
    "if length > 0:\n",
    "    if search_letter in sentence:\n",
    "        count = sentence.count(search_letter)\n",
    "        index = sentence.index(search_letter)\n",
    "        print(f\"\\nSubstring count: {count} \\n\")\n",
    "        print(f\"Length = {length} \\n\")\n",
    "        print(f\"Index of the Sub_String : {index} \\n\")\n",
    "\n",
    "    else:\n",
    "        print(\"\\nEnter a valid Search Letter !?! \\n\")"
   ]
  },
  {
   "cell_type": "code",
   "execution_count": null,
   "metadata": {},
   "outputs": [],
   "source": [
    "#assignment (2)\n",
    "\n",
    "print(\" $$$$$$$$$$$$$$$ Program to convert string !! $$$$$$$$$$$$$$$$$$$$$$$$$$\")\n",
    "\n",
    "key = input(\"Enter a sentence: \\n\")\n",
    "\n",
    "lower = key.lower()\n",
    "\n",
    "print(f\"Lower cased sentence: {lower} \\n\")\n",
    "\n",
    "upper = key.upper()\n",
    "\n",
    "print(f\"Upper cased sentence: {upper} \\n\")"
   ]
  },
  {
   "cell_type": "code",
   "execution_count": null,
   "metadata": {},
   "outputs": [],
   "source": []
  }
 ],
 "metadata": {
  "kernelspec": {
   "display_name": "Python 3",
   "language": "python",
   "name": "python3"
  },
  "language_info": {
   "codemirror_mode": {
    "name": "ipython",
    "version": 3
   },
   "file_extension": ".py",
   "mimetype": "text/x-python",
   "name": "python",
   "nbconvert_exporter": "python",
   "pygments_lexer": "ipython3",
   "version": "3.7.6"
  }
 },
 "nbformat": 4,
 "nbformat_minor": 4
}
